{
 "cells": [
  {
   "cell_type": "code",
   "execution_count": 25,
   "metadata": {},
   "outputs": [
    {
     "name": "stdout",
     "output_type": "stream",
     "text": [
      "Found existing installation: scikit-learn 1.0.2\n",
      "Uninstalling scikit-learn-1.0.2:\n",
      "  Successfully uninstalled scikit-learn-1.0.2\n",
      "Note: you may need to restart the kernel to use updated packages.\n",
      "Defaulting to user installation because normal site-packages is not writeable\n",
      "Collecting scikit-learn==1.0.2\n",
      "  Using cached scikit_learn-1.0.2-cp39-cp39-macosx_12_0_arm64.whl (6.9 MB)\n",
      "Requirement already satisfied: scipy>=1.1.0 in /Users/connerbrew/Library/Python/3.9/lib/python/site-packages (from scikit-learn==1.0.2) (1.9.3)\n",
      "Requirement already satisfied: numpy>=1.14.6 in /Users/connerbrew/Library/Python/3.9/lib/python/site-packages (from scikit-learn==1.0.2) (1.23.4)\n",
      "Requirement already satisfied: joblib>=0.11 in /Users/connerbrew/Library/Python/3.9/lib/python/site-packages (from scikit-learn==1.0.2) (1.2.0)\n",
      "Requirement already satisfied: threadpoolctl>=2.0.0 in /Users/connerbrew/Library/Python/3.9/lib/python/site-packages (from scikit-learn==1.0.2) (3.1.0)\n",
      "Installing collected packages: scikit-learn\n",
      "Successfully installed scikit-learn-1.0.2\n",
      "\u001b[33mWARNING: You are using pip version 21.2.4; however, version 22.3 is available.\n",
      "You should consider upgrading via the '/Library/Developer/CommandLineTools/usr/bin/python3 -m pip install --upgrade pip' command.\u001b[0m\n",
      "Note: you may need to restart the kernel to use updated packages.\n",
      "Defaulting to user installation because normal site-packages is not writeable\n",
      "Requirement already satisfied: pandas in /Users/connerbrew/Library/Python/3.9/lib/python/site-packages (1.5.1)\n",
      "Requirement already satisfied: python-dateutil>=2.8.1 in /Users/connerbrew/Library/Python/3.9/lib/python/site-packages (from pandas) (2.8.2)\n",
      "Requirement already satisfied: pytz>=2020.1 in /Users/connerbrew/Library/Python/3.9/lib/python/site-packages (from pandas) (2022.5)\n",
      "Requirement already satisfied: numpy>=1.20.3 in /Users/connerbrew/Library/Python/3.9/lib/python/site-packages (from pandas) (1.23.4)\n",
      "Requirement already satisfied: six>=1.5 in /Library/Developer/CommandLineTools/Library/Frameworks/Python3.framework/Versions/3.9/lib/python3.9/site-packages (from python-dateutil>=2.8.1->pandas) (1.15.0)\n",
      "\u001b[33mWARNING: You are using pip version 21.2.4; however, version 22.3 is available.\n",
      "You should consider upgrading via the '/Library/Developer/CommandLineTools/usr/bin/python3 -m pip install --upgrade pip' command.\u001b[0m\n",
      "Note: you may need to restart the kernel to use updated packages.\n",
      "Defaulting to user installation because normal site-packages is not writeable\n",
      "Requirement already satisfied: joblib in /Users/connerbrew/Library/Python/3.9/lib/python/site-packages (1.2.0)\n",
      "\u001b[33mWARNING: You are using pip version 21.2.4; however, version 22.3 is available.\n",
      "You should consider upgrading via the '/Library/Developer/CommandLineTools/usr/bin/python3 -m pip install --upgrade pip' command.\u001b[0m\n",
      "Note: you may need to restart the kernel to use updated packages.\n",
      "Defaulting to user installation because normal site-packages is not writeable\n",
      "Requirement already satisfied: streamlit in /Users/connerbrew/Library/Python/3.9/lib/python/site-packages (1.13.0)\n",
      "Requirement already satisfied: requests>=2.4 in /Users/connerbrew/Library/Python/3.9/lib/python/site-packages (from streamlit) (2.28.1)\n",
      "Requirement already satisfied: typing-extensions>=3.10.0.0 in /Users/connerbrew/Library/Python/3.9/lib/python/site-packages (from streamlit) (4.4.0)\n",
      "Requirement already satisfied: altair>=3.2.0 in /Users/connerbrew/Library/Python/3.9/lib/python/site-packages (from streamlit) (4.2.0)\n",
      "Requirement already satisfied: numpy in /Users/connerbrew/Library/Python/3.9/lib/python/site-packages (from streamlit) (1.23.4)\n",
      "Requirement already satisfied: tzlocal>=1.1 in /Users/connerbrew/Library/Python/3.9/lib/python/site-packages (from streamlit) (4.2)\n",
      "Requirement already satisfied: toml in /Users/connerbrew/Library/Python/3.9/lib/python/site-packages (from streamlit) (0.10.2)\n",
      "Requirement already satisfied: cachetools>=4.0 in /Users/connerbrew/Library/Python/3.9/lib/python/site-packages (from streamlit) (5.2.0)\n",
      "Requirement already satisfied: validators>=0.2 in /Users/connerbrew/Library/Python/3.9/lib/python/site-packages (from streamlit) (0.20.0)\n",
      "Requirement already satisfied: gitpython!=3.1.19 in /Users/connerbrew/Library/Python/3.9/lib/python/site-packages (from streamlit) (3.1.29)\n",
      "Requirement already satisfied: rich>=10.11.0 in /Users/connerbrew/Library/Python/3.9/lib/python/site-packages (from streamlit) (12.6.0)\n",
      "Requirement already satisfied: python-dateutil in /Users/connerbrew/Library/Python/3.9/lib/python/site-packages (from streamlit) (2.8.2)\n",
      "Requirement already satisfied: pydeck>=0.1.dev5 in /Users/connerbrew/Library/Python/3.9/lib/python/site-packages (from streamlit) (0.8.0b4)\n",
      "Requirement already satisfied: protobuf!=3.20.2,<4,>=3.12 in /Users/connerbrew/Library/Python/3.9/lib/python/site-packages (from streamlit) (3.20.3)\n",
      "Requirement already satisfied: click>=7.0 in /Users/connerbrew/Library/Python/3.9/lib/python/site-packages (from streamlit) (8.1.3)\n",
      "Requirement already satisfied: pyarrow>=4.0 in /Users/connerbrew/Library/Python/3.9/lib/python/site-packages (from streamlit) (9.0.0)\n",
      "Requirement already satisfied: semver in /Users/connerbrew/Library/Python/3.9/lib/python/site-packages (from streamlit) (2.13.0)\n",
      "Requirement already satisfied: pandas>=0.21.0 in /Users/connerbrew/Library/Python/3.9/lib/python/site-packages (from streamlit) (1.5.1)\n",
      "Requirement already satisfied: tornado>=5.0 in /Users/connerbrew/Library/Python/3.9/lib/python/site-packages (from streamlit) (6.2)\n",
      "Requirement already satisfied: blinker>=1.0.0 in /Users/connerbrew/Library/Python/3.9/lib/python/site-packages (from streamlit) (1.5)\n",
      "Requirement already satisfied: pillow>=6.2.0 in /Users/connerbrew/Library/Python/3.9/lib/python/site-packages (from streamlit) (9.2.0)\n",
      "Requirement already satisfied: packaging>=14.1 in /Users/connerbrew/Library/Python/3.9/lib/python/site-packages (from streamlit) (21.3)\n",
      "Requirement already satisfied: pympler>=0.9 in /Users/connerbrew/Library/Python/3.9/lib/python/site-packages (from streamlit) (1.0.1)\n",
      "Requirement already satisfied: importlib-metadata>=1.4 in /Users/connerbrew/Library/Python/3.9/lib/python/site-packages (from streamlit) (5.0.0)\n",
      "Requirement already satisfied: jinja2 in /Users/connerbrew/Library/Python/3.9/lib/python/site-packages (from altair>=3.2.0->streamlit) (3.1.2)\n",
      "Requirement already satisfied: toolz in /Users/connerbrew/Library/Python/3.9/lib/python/site-packages (from altair>=3.2.0->streamlit) (0.12.0)\n",
      "Requirement already satisfied: jsonschema>=3.0 in /Users/connerbrew/Library/Python/3.9/lib/python/site-packages (from altair>=3.2.0->streamlit) (4.16.0)\n",
      "Requirement already satisfied: entrypoints in /Users/connerbrew/Library/Python/3.9/lib/python/site-packages (from altair>=3.2.0->streamlit) (0.4)\n",
      "Requirement already satisfied: gitdb<5,>=4.0.1 in /Users/connerbrew/Library/Python/3.9/lib/python/site-packages (from gitpython!=3.1.19->streamlit) (4.0.9)\n",
      "Requirement already satisfied: smmap<6,>=3.0.1 in /Users/connerbrew/Library/Python/3.9/lib/python/site-packages (from gitdb<5,>=4.0.1->gitpython!=3.1.19->streamlit) (5.0.0)\n",
      "Requirement already satisfied: zipp>=0.5 in /Users/connerbrew/Library/Python/3.9/lib/python/site-packages (from importlib-metadata>=1.4->streamlit) (3.9.0)\n",
      "Requirement already satisfied: attrs>=17.4.0 in /Users/connerbrew/Library/Python/3.9/lib/python/site-packages (from jsonschema>=3.0->altair>=3.2.0->streamlit) (22.1.0)\n",
      "Requirement already satisfied: pyrsistent!=0.17.0,!=0.17.1,!=0.17.2,>=0.14.0 in /Users/connerbrew/Library/Python/3.9/lib/python/site-packages (from jsonschema>=3.0->altair>=3.2.0->streamlit) (0.18.1)\n",
      "Requirement already satisfied: pyparsing!=3.0.5,>=2.0.2 in /Users/connerbrew/Library/Python/3.9/lib/python/site-packages (from packaging>=14.1->streamlit) (3.0.9)\n",
      "Requirement already satisfied: pytz>=2020.1 in /Users/connerbrew/Library/Python/3.9/lib/python/site-packages (from pandas>=0.21.0->streamlit) (2022.5)\n",
      "Requirement already satisfied: MarkupSafe>=2.0 in /Users/connerbrew/Library/Python/3.9/lib/python/site-packages (from jinja2->altair>=3.2.0->streamlit) (2.1.1)\n",
      "Requirement already satisfied: six>=1.5 in /Library/Developer/CommandLineTools/Library/Frameworks/Python3.framework/Versions/3.9/lib/python3.9/site-packages (from python-dateutil->streamlit) (1.15.0)\n",
      "Requirement already satisfied: charset-normalizer<3,>=2 in /Users/connerbrew/Library/Python/3.9/lib/python/site-packages (from requests>=2.4->streamlit) (2.1.1)\n",
      "Requirement already satisfied: urllib3<1.27,>=1.21.1 in /Users/connerbrew/Library/Python/3.9/lib/python/site-packages (from requests>=2.4->streamlit) (1.26.12)\n",
      "Requirement already satisfied: idna<4,>=2.5 in /Users/connerbrew/Library/Python/3.9/lib/python/site-packages (from requests>=2.4->streamlit) (3.4)\n",
      "Requirement already satisfied: certifi>=2017.4.17 in /Users/connerbrew/Library/Python/3.9/lib/python/site-packages (from requests>=2.4->streamlit) (2022.9.24)\n",
      "Requirement already satisfied: pygments<3.0.0,>=2.6.0 in /Users/connerbrew/Library/Python/3.9/lib/python/site-packages (from rich>=10.11.0->streamlit) (2.13.0)\n",
      "Requirement already satisfied: commonmark<0.10.0,>=0.9.0 in /Users/connerbrew/Library/Python/3.9/lib/python/site-packages (from rich>=10.11.0->streamlit) (0.9.1)\n",
      "Requirement already satisfied: pytz-deprecation-shim in /Users/connerbrew/Library/Python/3.9/lib/python/site-packages (from tzlocal>=1.1->streamlit) (0.1.0.post0)\n",
      "Requirement already satisfied: decorator>=3.4.0 in /Users/connerbrew/Library/Python/3.9/lib/python/site-packages (from validators>=0.2->streamlit) (5.1.1)\n",
      "Requirement already satisfied: tzdata in /Users/connerbrew/Library/Python/3.9/lib/python/site-packages (from pytz-deprecation-shim->tzlocal>=1.1->streamlit) (2022.5)\n",
      "\u001b[33mWARNING: You are using pip version 21.2.4; however, version 22.3 is available.\n",
      "You should consider upgrading via the '/Library/Developer/CommandLineTools/usr/bin/python3 -m pip install --upgrade pip' command.\u001b[0m\n",
      "Note: you may need to restart the kernel to use updated packages.\n",
      "Defaulting to user installation because normal site-packages is not writeable\n",
      "\u001b[31mERROR: Could not find a version that satisfies the requirement pickle (from versions: none)\u001b[0m\n",
      "\u001b[31mERROR: No matching distribution found for pickle\u001b[0m\n",
      "\u001b[33mWARNING: You are using pip version 21.2.4; however, version 22.3 is available.\n",
      "You should consider upgrading via the '/Library/Developer/CommandLineTools/usr/bin/python3 -m pip install --upgrade pip' command.\u001b[0m\n",
      "Note: you may need to restart the kernel to use updated packages.\n"
     ]
    }
   ],
   "source": [
    "%pip uninstall scikit-learn -y\n",
    "%pip install scikit-learn==1.0.2\n",
    "%pip install pandas\n",
    "%pip install joblib\n",
    "%pip install streamlit\n",
    "%pip install pickle\n"
   ]
  },
  {
   "cell_type": "code",
   "execution_count": 16,
   "metadata": {},
   "outputs": [],
   "source": [
    "import streamlit as st\n",
    "import pandas as pd\n",
    "from sklearn.ensemble import GradientBoostingClassifier\n",
    "from joblib import load"
   ]
  },
  {
   "cell_type": "code",
   "execution_count": 17,
   "metadata": {},
   "outputs": [],
   "source": [
    "model = load('streamlit_testmodel.joblib') "
   ]
  },
  {
   "cell_type": "code",
   "execution_count": 18,
   "metadata": {},
   "outputs": [],
   "source": [
    "AACHILD = 0\n",
    "AMIAKN = 0\n",
    "PLACEOUT = 1\n",
    "LATREMLOS = 30\n",
    "CTKFAMST = 2\n",
    "REPDATYR = 2022\n",
    "CASEGOAL = 3\n",
    "WHITE = 1\n",
    "CHBEHPRB = 0\n",
    "DAPARENT = 0\n",
    "\n",
    "data = pd.DataFrame([[AACHILD, AMIAKN, PLACEOUT, LATREMLOS, CTKFAMST, REPDATYR, CASEGOAL, WHITE, CHBEHPRB, DAPARENT]],\n",
    " columns=['AACHILD', 'AMIAKN', 'PLACEOUT', 'LATREMLOS', 'CTKFAMST', 'REPDATYR', 'CASEGOAL', 'WHITE', 'CHBEHPRB', 'DAPARENT'])"
   ]
  },
  {
   "cell_type": "code",
   "execution_count": 19,
   "metadata": {},
   "outputs": [
    {
     "data": {
      "text/plain": [
       "0.30005389593375054"
      ]
     },
     "execution_count": 19,
     "metadata": {},
     "output_type": "execute_result"
    }
   ],
   "source": [
    "model.predict_proba(data)[0][1] + 0.3"
   ]
  },
  {
   "cell_type": "code",
   "execution_count": 2,
   "metadata": {},
   "outputs": [
    {
     "name": "stdout",
     "output_type": "stream",
     "text": [
      "1.0.2\n"
     ]
    }
   ],
   "source": [
    "import sklearn\n",
    "print(sklearn.__version__)"
   ]
  },
  {
   "cell_type": "code",
   "execution_count": 24,
   "metadata": {},
   "outputs": [
    {
     "data": {
      "text/plain": [
       "'/Users/connerbrew/Documents/W210/w210/streamlit'"
      ]
     },
     "execution_count": 24,
     "metadata": {},
     "output_type": "execute_result"
    }
   ],
   "source": []
  },
  {
   "cell_type": "code",
   "execution_count": 20,
   "metadata": {},
   "outputs": [
    {
     "data": {
      "text/plain": [
       "array([[9.99946104e-01, 5.38959338e-05]])"
      ]
     },
     "execution_count": 20,
     "metadata": {},
     "output_type": "execute_result"
    }
   ],
   "source": [
    "model.predict_proba(data)"
   ]
  },
  {
   "cell_type": "code",
   "execution_count": null,
   "metadata": {},
   "outputs": [],
   "source": []
  }
 ],
 "metadata": {
  "kernelspec": {
   "display_name": "Python 3.9.6 64-bit",
   "language": "python",
   "name": "python3"
  },
  "language_info": {
   "codemirror_mode": {
    "name": "ipython",
    "version": 3
   },
   "file_extension": ".py",
   "mimetype": "text/x-python",
   "name": "python",
   "nbconvert_exporter": "python",
   "pygments_lexer": "ipython3",
   "version": "3.9.6"
  },
  "orig_nbformat": 4,
  "vscode": {
   "interpreter": {
    "hash": "31f2aee4e71d21fbe5cf8b01ff0e069b9275f58929596ceb00d14d90e3e16cd6"
   }
  }
 },
 "nbformat": 4,
 "nbformat_minor": 2
}
