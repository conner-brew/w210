{
 "cells": [
  {
   "cell_type": "code",
   "execution_count": 25,
   "metadata": {},
   "outputs": [
    {
     "name": "stdout",
     "output_type": "stream",
     "text": [
      "Found existing installation: scikit-learn 1.0.2\n",
      "Uninstalling scikit-learn-1.0.2:\n",
      "  Successfully uninstalled scikit-learn-1.0.2\n",
      "Note: you may need to restart the kernel to use updated packages.\n",
      "Defaulting to user installation because normal site-packages is not writeable\n",
      "Collecting scikit-learn==1.0.2\n",
      "  Using cached scikit_learn-1.0.2-cp39-cp39-macosx_12_0_arm64.whl (6.9 MB)\n",
      "Requirement already satisfied: scipy>=1.1.0 in /Users/connerbrew/Library/Python/3.9/lib/python/site-packages (from scikit-learn==1.0.2) (1.9.3)\n",
      "Requirement already satisfied: numpy>=1.14.6 in /Users/connerbrew/Library/Python/3.9/lib/python/site-packages (from scikit-learn==1.0.2) (1.23.4)\n",
      "Requirement already satisfied: joblib>=0.11 in /Users/connerbrew/Library/Python/3.9/lib/python/site-packages (from scikit-learn==1.0.2) (1.2.0)\n",
      "Requirement already satisfied: threadpoolctl>=2.0.0 in /Users/connerbrew/Library/Python/3.9/lib/python/site-packages (from scikit-learn==1.0.2) (3.1.0)\n",
      "Installing collected packages: scikit-learn\n",
      "Successfully installed scikit-learn-1.0.2\n",
      "\u001b[33mWARNING: You are using pip version 21.2.4; however, version 22.3 is available.\n",
      "You should consider upgrading via the '/Library/Developer/CommandLineTools/usr/bin/python3 -m pip install --upgrade pip' command.\u001b[0m\n",
      "Note: you may need to restart the kernel to use updated packages.\n",
      "Defaulting to user installation because normal site-packages is not writeable\n",
      "Requirement already satisfied: pandas in /Users/connerbrew/Library/Python/3.9/lib/python/site-packages (1.5.1)\n",
      "Requirement already satisfied: python-dateutil>=2.8.1 in /Users/connerbrew/Library/Python/3.9/lib/python/site-packages (from pandas) (2.8.2)\n",
      "Requirement already satisfied: pytz>=2020.1 in /Users/connerbrew/Library/Python/3.9/lib/python/site-packages (from pandas) (2022.5)\n",
      "Requirement already satisfied: numpy>=1.20.3 in /Users/connerbrew/Library/Python/3.9/lib/python/site-packages (from pandas) (1.23.4)\n",
      "Requirement already satisfied: six>=1.5 in /Library/Developer/CommandLineTools/Library/Frameworks/Python3.framework/Versions/3.9/lib/python3.9/site-packages (from python-dateutil>=2.8.1->pandas) (1.15.0)\n",
      "\u001b[33mWARNING: You are using pip version 21.2.4; however, version 22.3 is available.\n",
      "You should consider upgrading via the '/Library/Developer/CommandLineTools/usr/bin/python3 -m pip install --upgrade pip' command.\u001b[0m\n",
      "Note: you may need to restart the kernel to use updated packages.\n",
      "Defaulting to user installation because normal site-packages is not writeable\n",
      "Requirement already satisfied: joblib in /Users/connerbrew/Library/Python/3.9/lib/python/site-packages (1.2.0)\n",
      "\u001b[33mWARNING: You are using pip version 21.2.4; however, version 22.3 is available.\n",
      "You should consider upgrading via the '/Library/Developer/CommandLineTools/usr/bin/python3 -m pip install --upgrade pip' command.\u001b[0m\n",
      "Note: you may need to restart the kernel to use updated packages.\n",
      "Defaulting to user installation because normal site-packages is not writeable\n",
      "Requirement already satisfied: streamlit in /Users/connerbrew/Library/Python/3.9/lib/python/site-packages (1.13.0)\n",
      "Requirement already satisfied: requests>=2.4 in /Users/connerbrew/Library/Python/3.9/lib/python/site-packages (from streamlit) (2.28.1)\n",
      "Requirement already satisfied: typing-extensions>=3.10.0.0 in /Users/connerbrew/Library/Python/3.9/lib/python/site-packages (from streamlit) (4.4.0)\n",
      "Requirement already satisfied: altair>=3.2.0 in /Users/connerbrew/Library/Python/3.9/lib/python/site-packages (from streamlit) (4.2.0)\n",
      "Requirement already satisfied: numpy in /Users/connerbrew/Library/Python/3.9/lib/python/site-packages (from streamlit) (1.23.4)\n",
      "Requirement already satisfied: tzlocal>=1.1 in /Users/connerbrew/Library/Python/3.9/lib/python/site-packages (from streamlit) (4.2)\n",
      "Requirement already satisfied: toml in /Users/connerbrew/Library/Python/3.9/lib/python/site-packages (from streamlit) (0.10.2)\n",
      "Requirement already satisfied: cachetools>=4.0 in /Users/connerbrew/Library/Python/3.9/lib/python/site-packages (from streamlit) (5.2.0)\n",
      "Requirement already satisfied: validators>=0.2 in /Users/connerbrew/Library/Python/3.9/lib/python/site-packages (from streamlit) (0.20.0)\n",
      "Requirement already satisfied: gitpython!=3.1.19 in /Users/connerbrew/Library/Python/3.9/lib/python/site-packages (from streamlit) (3.1.29)\n",
      "Requirement already satisfied: rich>=10.11.0 in /Users/connerbrew/Library/Python/3.9/lib/python/site-packages (from streamlit) (12.6.0)\n",
      "Requirement already satisfied: python-dateutil in /Users/connerbrew/Library/Python/3.9/lib/python/site-packages (from streamlit) (2.8.2)\n",
      "Requirement already satisfied: pydeck>=0.1.dev5 in /Users/connerbrew/Library/Python/3.9/lib/python/site-packages (from streamlit) (0.8.0b4)\n",
      "Requirement already satisfied: protobuf!=3.20.2,<4,>=3.12 in /Users/connerbrew/Library/Python/3.9/lib/python/site-packages (from streamlit) (3.20.3)\n",
      "Requirement already satisfied: click>=7.0 in /Users/connerbrew/Library/Python/3.9/lib/python/site-packages (from streamlit) (8.1.3)\n",
      "Requirement already satisfied: pyarrow>=4.0 in /Users/connerbrew/Library/Python/3.9/lib/python/site-packages (from streamlit) (9.0.0)\n",
      "Requirement already satisfied: semver in /Users/connerbrew/Library/Python/3.9/lib/python/site-packages (from streamlit) (2.13.0)\n",
      "Requirement already satisfied: pandas>=0.21.0 in /Users/connerbrew/Library/Python/3.9/lib/python/site-packages (from streamlit) (1.5.1)\n",
      "Requirement already satisfied: tornado>=5.0 in /Users/connerbrew/Library/Python/3.9/lib/python/site-packages (from streamlit) (6.2)\n",
      "Requirement already satisfied: blinker>=1.0.0 in /Users/connerbrew/Library/Python/3.9/lib/python/site-packages (from streamlit) (1.5)\n",
      "Requirement already satisfied: pillow>=6.2.0 in /Users/connerbrew/Library/Python/3.9/lib/python/site-packages (from streamlit) (9.2.0)\n",
      "Requirement already satisfied: packaging>=14.1 in /Users/connerbrew/Library/Python/3.9/lib/python/site-packages (from streamlit) (21.3)\n",
      "Requirement already satisfied: pympler>=0.9 in /Users/connerbrew/Library/Python/3.9/lib/python/site-packages (from streamlit) (1.0.1)\n",
      "Requirement already satisfied: importlib-metadata>=1.4 in /Users/connerbrew/Library/Python/3.9/lib/python/site-packages (from streamlit) (5.0.0)\n",
      "Requirement already satisfied: jinja2 in /Users/connerbrew/Library/Python/3.9/lib/python/site-packages (from altair>=3.2.0->streamlit) (3.1.2)\n",
      "Requirement already satisfied: toolz in /Users/connerbrew/Library/Python/3.9/lib/python/site-packages (from altair>=3.2.0->streamlit) (0.12.0)\n",
      "Requirement already satisfied: jsonschema>=3.0 in /Users/connerbrew/Library/Python/3.9/lib/python/site-packages (from altair>=3.2.0->streamlit) (4.16.0)\n",
      "Requirement already satisfied: entrypoints in /Users/connerbrew/Library/Python/3.9/lib/python/site-packages (from altair>=3.2.0->streamlit) (0.4)\n",
      "Requirement already satisfied: gitdb<5,>=4.0.1 in /Users/connerbrew/Library/Python/3.9/lib/python/site-packages (from gitpython!=3.1.19->streamlit) (4.0.9)\n",
      "Requirement already satisfied: smmap<6,>=3.0.1 in /Users/connerbrew/Library/Python/3.9/lib/python/site-packages (from gitdb<5,>=4.0.1->gitpython!=3.1.19->streamlit) (5.0.0)\n",
      "Requirement already satisfied: zipp>=0.5 in /Users/connerbrew/Library/Python/3.9/lib/python/site-packages (from importlib-metadata>=1.4->streamlit) (3.9.0)\n",
      "Requirement already satisfied: attrs>=17.4.0 in /Users/connerbrew/Library/Python/3.9/lib/python/site-packages (from jsonschema>=3.0->altair>=3.2.0->streamlit) (22.1.0)\n",
      "Requirement already satisfied: pyrsistent!=0.17.0,!=0.17.1,!=0.17.2,>=0.14.0 in /Users/connerbrew/Library/Python/3.9/lib/python/site-packages (from jsonschema>=3.0->altair>=3.2.0->streamlit) (0.18.1)\n",
      "Requirement already satisfied: pyparsing!=3.0.5,>=2.0.2 in /Users/connerbrew/Library/Python/3.9/lib/python/site-packages (from packaging>=14.1->streamlit) (3.0.9)\n",
      "Requirement already satisfied: pytz>=2020.1 in /Users/connerbrew/Library/Python/3.9/lib/python/site-packages (from pandas>=0.21.0->streamlit) (2022.5)\n",
      "Requirement already satisfied: MarkupSafe>=2.0 in /Users/connerbrew/Library/Python/3.9/lib/python/site-packages (from jinja2->altair>=3.2.0->streamlit) (2.1.1)\n",
      "Requirement already satisfied: six>=1.5 in /Library/Developer/CommandLineTools/Library/Frameworks/Python3.framework/Versions/3.9/lib/python3.9/site-packages (from python-dateutil->streamlit) (1.15.0)\n",
      "Requirement already satisfied: charset-normalizer<3,>=2 in /Users/connerbrew/Library/Python/3.9/lib/python/site-packages (from requests>=2.4->streamlit) (2.1.1)\n",
      "Requirement already satisfied: urllib3<1.27,>=1.21.1 in /Users/connerbrew/Library/Python/3.9/lib/python/site-packages (from requests>=2.4->streamlit) (1.26.12)\n",
      "Requirement already satisfied: idna<4,>=2.5 in /Users/connerbrew/Library/Python/3.9/lib/python/site-packages (from requests>=2.4->streamlit) (3.4)\n",
      "Requirement already satisfied: certifi>=2017.4.17 in /Users/connerbrew/Library/Python/3.9/lib/python/site-packages (from requests>=2.4->streamlit) (2022.9.24)\n",
      "Requirement already satisfied: pygments<3.0.0,>=2.6.0 in /Users/connerbrew/Library/Python/3.9/lib/python/site-packages (from rich>=10.11.0->streamlit) (2.13.0)\n",
      "Requirement already satisfied: commonmark<0.10.0,>=0.9.0 in /Users/connerbrew/Library/Python/3.9/lib/python/site-packages (from rich>=10.11.0->streamlit) (0.9.1)\n",
      "Requirement already satisfied: pytz-deprecation-shim in /Users/connerbrew/Library/Python/3.9/lib/python/site-packages (from tzlocal>=1.1->streamlit) (0.1.0.post0)\n",
      "Requirement already satisfied: decorator>=3.4.0 in /Users/connerbrew/Library/Python/3.9/lib/python/site-packages (from validators>=0.2->streamlit) (5.1.1)\n",
      "Requirement already satisfied: tzdata in /Users/connerbrew/Library/Python/3.9/lib/python/site-packages (from pytz-deprecation-shim->tzlocal>=1.1->streamlit) (2022.5)\n",
      "\u001b[33mWARNING: You are using pip version 21.2.4; however, version 22.3 is available.\n",
      "You should consider upgrading via the '/Library/Developer/CommandLineTools/usr/bin/python3 -m pip install --upgrade pip' command.\u001b[0m\n",
      "Note: you may need to restart the kernel to use updated packages.\n",
      "Defaulting to user installation because normal site-packages is not writeable\n",
      "\u001b[31mERROR: Could not find a version that satisfies the requirement pickle (from versions: none)\u001b[0m\n",
      "\u001b[31mERROR: No matching distribution found for pickle\u001b[0m\n",
      "\u001b[33mWARNING: You are using pip version 21.2.4; however, version 22.3 is available.\n",
      "You should consider upgrading via the '/Library/Developer/CommandLineTools/usr/bin/python3 -m pip install --upgrade pip' command.\u001b[0m\n",
      "Note: you may need to restart the kernel to use updated packages.\n"
     ]
    }
   ],
   "source": [
    "%pip uninstall scikit-learn -y\n",
    "%pip install scikit-learn==1.0.2\n",
    "%pip install pandas\n",
    "%pip install joblib\n",
    "%pip install streamlit\n",
    "%pip install pickle\n",
    "\n"
   ]
  },
  {
   "cell_type": "code",
   "execution_count": 16,
   "metadata": {},
   "outputs": [],
   "source": [
    "import streamlit as st\n",
    "import pandas as pd\n",
    "from sklearn.ensemble import GradientBoostingClassifier\n",
    "from joblib import load"
   ]
  },
  {
   "cell_type": "code",
   "execution_count": 17,
   "metadata": {},
   "outputs": [],
   "source": [
    "model = load('streamlit_testmodel.joblib') "
   ]
  },
  {
   "cell_type": "code",
   "execution_count": 18,
   "metadata": {},
   "outputs": [],
   "source": [
    "AACHILD = 0\n",
    "AMIAKN = 0\n",
    "PLACEOUT = 1\n",
    "LATREMLOS = 30\n",
    "CTKFAMST = 2\n",
    "REPDATYR = 2022\n",
    "CASEGOAL = 3\n",
    "WHITE = 1\n",
    "CHBEHPRB = 0\n",
    "DAPARENT = 0\n",
    "\n",
    "data = pd.DataFrame([[AACHILD, AMIAKN, PLACEOUT, LATREMLOS, CTKFAMST, REPDATYR, CASEGOAL, WHITE, CHBEHPRB, DAPARENT]],\n",
    " columns=['AACHILD', 'AMIAKN', 'PLACEOUT', 'LATREMLOS', 'CTKFAMST', 'REPDATYR', 'CASEGOAL', 'WHITE', 'CHBEHPRB', 'DAPARENT'])"
   ]
  },
  {
   "cell_type": "code",
   "execution_count": 19,
   "metadata": {},
   "outputs": [
    {
     "data": {
      "text/plain": [
       "0.30005389593375054"
      ]
     },
     "execution_count": 19,
     "metadata": {},
     "output_type": "execute_result"
    }
   ],
   "source": [
    "model.predict_proba(data)[0][1] + 0.3"
   ]
  },
  {
   "cell_type": "code",
   "execution_count": 2,
   "metadata": {},
   "outputs": [
    {
     "name": "stdout",
     "output_type": "stream",
     "text": [
      "1.0.2\n"
     ]
    }
   ],
   "source": [
    "import sklearn\n",
    "print(sklearn.__version__)"
   ]
  },
  {
   "cell_type": "code",
   "execution_count": 2,
   "metadata": {},
   "outputs": [
    {
     "name": "stdout",
     "output_type": "stream",
     "text": [
      "Defaulting to user installation because normal site-packages is not writeable\n",
      "Collecting xgboost\n",
      "  Downloading xgboost-1.7.1-py3-none-macosx_12_0_arm64.whl (1.6 MB)\n",
      "\u001b[K     |████████████████████████████████| 1.6 MB 7.6 MB/s eta 0:00:01\n",
      "\u001b[?25hRequirement already satisfied: scipy in /Users/connerbrew/Library/Python/3.9/lib/python/site-packages (from xgboost) (1.9.3)\n",
      "Requirement already satisfied: numpy in /Users/connerbrew/Library/Python/3.9/lib/python/site-packages (from xgboost) (1.23.4)\n",
      "Installing collected packages: xgboost\n",
      "Successfully installed xgboost-1.7.1\n",
      "\u001b[33mWARNING: You are using pip version 21.2.4; however, version 22.3.1 is available.\n",
      "You should consider upgrading via the '/Library/Developer/CommandLineTools/usr/bin/python3 -m pip install --upgrade pip' command.\u001b[0m\n",
      "Note: you may need to restart the kernel to use updated packages.\n"
     ]
    }
   ],
   "source": [
    "%pip install xgboost"
   ]
  },
  {
   "cell_type": "code",
   "execution_count": 20,
   "metadata": {},
   "outputs": [
    {
     "data": {
      "text/plain": [
       "array([[9.99946104e-01, 5.38959338e-05]])"
      ]
     },
     "execution_count": 20,
     "metadata": {},
     "output_type": "execute_result"
    }
   ],
   "source": [
    "model.predict_proba(data)"
   ]
  },
  {
   "cell_type": "code",
   "execution_count": 3,
   "metadata": {},
   "outputs": [],
   "source": [
    "import xgboost"
   ]
  },
  {
   "cell_type": "code",
   "execution_count": 4,
   "metadata": {},
   "outputs": [
    {
     "name": "stdout",
     "output_type": "stream",
     "text": [
      "Defaulting to user installation because normal site-packages is not writeable\n",
      "Collecting shap\n",
      "  Downloading shap-0.41.0.tar.gz (380 kB)\n",
      "\u001b[K     |████████████████████████████████| 380 kB 4.3 MB/s eta 0:00:01    |████████▋                       | 102 kB 4.3 MB/s eta 0:00:01\n",
      "\u001b[?25h\u001b[33m  WARNING: Value for prefixed-purelib does not match. Please report this to <https://github.com/pypa/pip/issues/10151>\n",
      "  distutils: /private/var/folders/mq/zpykx49x66976jrs7v4r0svh0000gp/T/pip-build-env-6w2r9xvw/normal/lib/python3.9/site-packages\n",
      "  sysconfig: /Library/Python/3.9/site-packages\u001b[0m\n",
      "\u001b[33m  WARNING: Value for prefixed-platlib does not match. Please report this to <https://github.com/pypa/pip/issues/10151>\n",
      "  distutils: /private/var/folders/mq/zpykx49x66976jrs7v4r0svh0000gp/T/pip-build-env-6w2r9xvw/normal/lib/python3.9/site-packages\n",
      "  sysconfig: /Library/Python/3.9/site-packages\u001b[0m\n",
      "\u001b[33m  WARNING: Additional context:\n",
      "  user = False\n",
      "  home = None\n",
      "  root = None\n",
      "  prefix = '/private/var/folders/mq/zpykx49x66976jrs7v4r0svh0000gp/T/pip-build-env-6w2r9xvw/normal'\u001b[0m\n",
      "\u001b[33m  WARNING: Value for prefixed-purelib does not match. Please report this to <https://github.com/pypa/pip/issues/10151>\n",
      "  distutils: /private/var/folders/mq/zpykx49x66976jrs7v4r0svh0000gp/T/pip-build-env-6w2r9xvw/overlay/lib/python3.9/site-packages\n",
      "  sysconfig: /Library/Python/3.9/site-packages\u001b[0m\n",
      "\u001b[33m  WARNING: Value for prefixed-platlib does not match. Please report this to <https://github.com/pypa/pip/issues/10151>\n",
      "  distutils: /private/var/folders/mq/zpykx49x66976jrs7v4r0svh0000gp/T/pip-build-env-6w2r9xvw/overlay/lib/python3.9/site-packages\n",
      "  sysconfig: /Library/Python/3.9/site-packages\u001b[0m\n",
      "\u001b[33m  WARNING: Additional context:\n",
      "  user = False\n",
      "  home = None\n",
      "  root = None\n",
      "  prefix = '/private/var/folders/mq/zpykx49x66976jrs7v4r0svh0000gp/T/pip-build-env-6w2r9xvw/overlay'\u001b[0m\n",
      "  Installing build dependencies ... \u001b[?25ldone\n",
      "\u001b[?25h  Getting requirements to build wheel ... \u001b[?25ldone\n",
      "\u001b[?25h    Preparing wheel metadata ... \u001b[?25ldone\n",
      "\u001b[?25hRequirement already satisfied: numpy in /Users/connerbrew/Library/Python/3.9/lib/python/site-packages (from shap) (1.23.4)\n",
      "Collecting numba\n",
      "  Downloading numba-0.56.4-cp39-cp39-macosx_11_0_arm64.whl (2.4 MB)\n",
      "\u001b[K     |████████████████████████████████| 2.4 MB 11.3 MB/s eta 0:00:01\n",
      "\u001b[?25hRequirement already satisfied: scipy in /Users/connerbrew/Library/Python/3.9/lib/python/site-packages (from shap) (1.9.3)\n",
      "Requirement already satisfied: packaging>20.9 in /Users/connerbrew/Library/Python/3.9/lib/python/site-packages (from shap) (21.3)\n",
      "Collecting cloudpickle\n",
      "  Downloading cloudpickle-2.2.0-py3-none-any.whl (25 kB)\n",
      "Collecting slicer==0.0.7\n",
      "  Using cached slicer-0.0.7-py3-none-any.whl (14 kB)\n",
      "Requirement already satisfied: scikit-learn in /Users/connerbrew/Library/Python/3.9/lib/python/site-packages (from shap) (1.0.2)\n",
      "Requirement already satisfied: pandas in /Users/connerbrew/Library/Python/3.9/lib/python/site-packages (from shap) (1.5.1)\n",
      "Collecting tqdm>4.25.0\n",
      "  Downloading tqdm-4.64.1-py2.py3-none-any.whl (78 kB)\n",
      "\u001b[K     |████████████████████████████████| 78 kB 5.4 MB/s eta 0:00:01\n",
      "\u001b[?25hRequirement already satisfied: pyparsing!=3.0.5,>=2.0.2 in /Users/connerbrew/Library/Python/3.9/lib/python/site-packages (from packaging>20.9->shap) (3.0.9)\n",
      "Collecting llvmlite<0.40,>=0.39.0dev0\n",
      "  Downloading llvmlite-0.39.1-cp39-cp39-macosx_11_0_arm64.whl (23.1 MB)\n",
      "\u001b[K     |████████████████████████████████| 23.1 MB 12.5 MB/s eta 0:00:01\n",
      "\u001b[?25hRequirement already satisfied: setuptools in /Library/Developer/CommandLineTools/Library/Frameworks/Python3.framework/Versions/3.9/lib/python3.9/site-packages (from numba->shap) (58.0.4)\n",
      "Requirement already satisfied: pytz>=2020.1 in /Users/connerbrew/Library/Python/3.9/lib/python/site-packages (from pandas->shap) (2022.5)\n",
      "Requirement already satisfied: python-dateutil>=2.8.1 in /Users/connerbrew/Library/Python/3.9/lib/python/site-packages (from pandas->shap) (2.8.2)\n",
      "Requirement already satisfied: six>=1.5 in /Library/Developer/CommandLineTools/Library/Frameworks/Python3.framework/Versions/3.9/lib/python3.9/site-packages (from python-dateutil>=2.8.1->pandas->shap) (1.15.0)\n",
      "Requirement already satisfied: threadpoolctl>=2.0.0 in /Users/connerbrew/Library/Python/3.9/lib/python/site-packages (from scikit-learn->shap) (3.1.0)\n",
      "Requirement already satisfied: joblib>=0.11 in /Users/connerbrew/Library/Python/3.9/lib/python/site-packages (from scikit-learn->shap) (1.2.0)\n",
      "Building wheels for collected packages: shap\n",
      "  Building wheel for shap (PEP 517) ... \u001b[?25ldone\n",
      "\u001b[?25h  Created wheel for shap: filename=shap-0.41.0-cp39-cp39-macosx_10_9_universal2.whl size=461260 sha256=cbdd1d3bd067996cd8fa2914cd009630f89a0ec7548d7d2604e81916fd4effd0\n",
      "  Stored in directory: /Users/connerbrew/Library/Caches/pip/wheels/69/c7/a2/7063a159ec59a3acb05f686fdc1a4a622d75ec63f07e7920e1\n",
      "Successfully built shap\n",
      "Installing collected packages: llvmlite, tqdm, slicer, numba, cloudpickle, shap\n",
      "\u001b[33m  WARNING: The script tqdm is installed in '/Users/connerbrew/Library/Python/3.9/bin' which is not on PATH.\n",
      "  Consider adding this directory to PATH or, if you prefer to suppress this warning, use --no-warn-script-location.\u001b[0m\n",
      "Successfully installed cloudpickle-2.2.0 llvmlite-0.39.1 numba-0.56.4 shap-0.41.0 slicer-0.0.7 tqdm-4.64.1\n",
      "\u001b[33mWARNING: You are using pip version 21.2.4; however, version 22.3.1 is available.\n",
      "You should consider upgrading via the '/Library/Developer/CommandLineTools/usr/bin/python3 -m pip install --upgrade pip' command.\u001b[0m\n",
      "Note: you may need to restart the kernel to use updated packages.\n"
     ]
    }
   ],
   "source": [
    "%pip install shap"
   ]
  },
  {
   "cell_type": "code",
   "execution_count": 5,
   "metadata": {},
   "outputs": [],
   "source": [
    "import shap"
   ]
  },
  {
   "cell_type": "code",
   "execution_count": null,
   "metadata": {},
   "outputs": [],
   "source": []
  }
 ],
 "metadata": {
  "kernelspec": {
   "display_name": "Python 3.9.6 64-bit",
   "language": "python",
   "name": "python3"
  },
  "language_info": {
   "codemirror_mode": {
    "name": "ipython",
    "version": 3
   },
   "file_extension": ".py",
   "mimetype": "text/x-python",
   "name": "python",
   "nbconvert_exporter": "python",
   "pygments_lexer": "ipython3",
   "version": "3.9.6"
  },
  "orig_nbformat": 4,
  "vscode": {
   "interpreter": {
    "hash": "31f2aee4e71d21fbe5cf8b01ff0e069b9275f58929596ceb00d14d90e3e16cd6"
   }
  }
 },
 "nbformat": 4,
 "nbformat_minor": 2
}
